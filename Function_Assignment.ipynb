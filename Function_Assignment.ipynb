{
  "nbformat": 4,
  "nbformat_minor": 0,
  "metadata": {
    "colab": {
      "provenance": []
    },
    "kernelspec": {
      "name": "python3",
      "display_name": "Python 3"
    },
    "language_info": {
      "name": "python"
    }
  },
  "cells": [
    {
      "cell_type": "markdown",
      "source": [
        "### Theory Questions"
      ],
      "metadata": {
        "id": "APJKKiOkoPKn"
      }
    },
    {
      "cell_type": "markdown",
      "source": [
        "1.  What is the difference between a function and a method in Python?\n",
        " - Function -A function is a structured, reusable code block utilized for carrying out a specific task. Functions facilitate the creation of modular code, simplifying maintenance and reusability.\n",
        " - method is a function that is associated with an object and is called using dot notation. It is defined inside a class and operates on instance data.\n",
        "\n",
        " for example -# Function (Independent)\n",
        "def add(a, b):\n",
        "    return a + b\n",
        "\n",
        "print(add(2, 3))  # Output: 5\n",
        "\n",
        "# Method (Inside a Class)\n",
        "class Calculator:\n",
        "    def add(self, a, b):\n",
        "        return a + b\n",
        "\n",
        "calc = Calculator()\n",
        "print(calc.add(2, 3))  # Output: 5\n"
      ],
      "metadata": {
        "id": "2jIZyQX2o2Ac"
      }
    },
    {
      "cell_type": "markdown",
      "source": [
        "2. Explain the concept of function arguments and parameters in Python?\n",
        " - Parameters: Variables listed in a function definition.\n",
        "Arguments: Values passed to a function when calling it.\n",
        "Example:\n",
        "# Function with parameters\n",
        "def greet(name):  # 'name' is a parameter\n",
        "    print(f\"Hello, {name}!\")\n",
        "\n",
        "# Calling the function with an argument\n",
        "greet(\"Alice\")  # \"Alice\" is an argument\n"
      ],
      "metadata": {
        "id": "j1_QOveisaM7"
      }
    },
    {
      "cell_type": "markdown",
      "source": [
        "3.What are the different ways to define and call a function in Python?\n",
        " - function with positional arguments\n",
        " - function with default argument\n",
        " - function with keyword argument\n",
        " - function with arbitrary keyword argument\n",
        " - lambda function ( anonymous function)\n"
      ],
      "metadata": {
        "id": "wgxD6HbUviVm"
      }
    },
    {
      "cell_type": "markdown",
      "source": [
        "4. What is the purpose of the `return` statement in a Python function?\n",
        " -The return statement is used in a function to:\n",
        "   - Send a value back to the caller.\n",
        "   -Terminate the function execution immediately.\n",
        "   -Store the result for later use instead of just printing it\n",
        "\n",
        "   for example -\n",
        "   def add(a, b):\n",
        "    return a + b  # Returns the sum of a and b\n",
        "\n",
        "result = add(3, 5)  # The function call stores the returned value in 'result'\n",
        "print(result)  # Output: 8\n"
      ],
      "metadata": {
        "id": "Pogetug3wjHV"
      }
    },
    {
      "cell_type": "markdown",
      "source": [
        "5.  What are iterators in Python and how do they differ from iterables?\n",
        " - An iterator is an object representing a stream of data .\n",
        " - An iterable is any python object/sequential string/ data structure that is capable of returning  its member one at a time . using a for or while loop\n",
        "  example- list , tuple\n",
        "\n",
        "  list = [ 1 , 2, \"ajay\" ]\n",
        "   for i in list\n",
        "   print (i)\n",
        "   \n",
        "   ##output\n",
        "   1\n",
        "   2\n",
        "   ajay"
      ],
      "metadata": {
        "id": "aAcyDs3sxwhZ"
      }
    },
    {
      "cell_type": "markdown",
      "source": [
        "6.  Explain the concept of generators in Python and how they are defined.?\n",
        " - Generators are a simple way to create iterators using functions and the yield keyword instead of returning values.\n",
        "  -Characteristics:\n",
        "Iterables: Generators return data in an iterable format, allowing the sequence to be iterated over, much like a list or tuple.\n",
        "\n",
        " - Advantages:\n",
        "Efficient Memory Usage: Generators do not store the entire sequence in memory, making them suitable for large datasets or infinite sequences."
      ],
      "metadata": {
        "id": "LAFYF6pK9wET"
      }
    },
    {
      "cell_type": "markdown",
      "source": [
        "7. What are the advantages of using generators over regular functions?\n",
        " -Generators provide several benefits over regular functions, especially when dealing with large datasets or infinite sequences.\n",
        "  \n",
        "  advantages -\n",
        "   - memory effeciency - Generators yield values one at a time instead of storing them all in memory.\n",
        "Useful for large data processing.\n",
        "   - Faster execution - Since generators don’t compute values until needed, they are faster than functions that return lists.\n",
        "   - Simplifies Code with yield Instead of Managing State -yield automatically remembers the function’s state between calls.\n",
        "Regular functions require extra variables and loops to manage state.\n",
        "Example:"
      ],
      "metadata": {
        "id": "-vBKG3ha-8Ml"
      }
    },
    {
      "cell_type": "markdown",
      "source": [
        "8. What is a lambda function in Python and when is it typically used?\n",
        " - A lambda function is an anonymous, single-expression function defined using the lambda keyword. Lambda is used when we need a quick action , one time function . Lambda is used with map() , filter() . It is also used as a key for sorting. lambda can have single expression only, cant have multiple statements\n",
        "\n",
        " for example\n",
        " square_lambda = lambda x: x * x\n",
        " print(square_lambda(5))  # Output: 25\n",
        "\n",
        "\n",
        "\n",
        "\n",
        "\n",
        "\n"
      ],
      "metadata": {
        "id": "npLGbiok911q"
      }
    },
    {
      "cell_type": "markdown",
      "source": [
        "9. Explain the purpose and usage of the `map()` function in Python?\n",
        " - The map() function is used to apply a given function to each item in an iterable (such as a list or tuple) and returns an iterator with the results. It helps in transforming data efficiently without using explicit loops.\n",
        " -  Key points\n",
        "    - it returns an iterator, making it memory efficient.\n",
        "    - It takes a function and one or more iterables as arguments.\n",
        "    - It is useful for performing element-wise transformations (e.g., type conversion, mathematical operations).\n",
        "    - It can be used with built-in functions, lambda functions, or custom-defined functions.\n",
        "  \n",
        "   For example\n",
        "    numbers = [1, 2, 3, 4]\n",
        "doubled = map(lambda x: x * 2, numbers)\n",
        "\n",
        "print(list(doubled))  # Output: [2, 4, 6, 8]\n",
        "\n",
        "  "
      ],
      "metadata": {
        "id": "_tcczfSrBQH9"
      }
    },
    {
      "cell_type": "markdown",
      "source": [
        "10. What is the difference between `map()`, `reduce()`, and `filter()` functions in Python?\n",
        " - The map(), filter(), and reduce() functions process iterables efficiently. map() applies a function to each element, transforming all values. filter() selects elements that meet a condition, keeping only the relevant ones. reduce(), from functools, applies a function cumulatively, reducing the iterable to a single value. While map() and filter() return iterators, reduce() returns a single result, making these functions useful for concise and efficient data processing\n",
        "\n",
        " example-\n",
        "  map(): Doubles each number\n",
        "numbers = [1, 2, 3, 4]\n",
        "doubled = map(lambda x: x * 2, numbers)\n",
        "print(list(doubled))  # Output: [2, 4, 6, 8]\n",
        "\n",
        "# filter(): Keeps only even numbers\n",
        "evens = filter(lambda x: x % 2 == 0, numbers)\n",
        "print(list(evens))  # Output: [2, 4]\n",
        "\n",
        "# reduce(): Finds the sum of all numbers\n",
        "total = reduce(lambda x, y: x + y, numbers)\n",
        "print(total)  # Output: 10"
      ],
      "metadata": {
        "id": "sNoK_An3DABW"
      }
    },
    {
      "cell_type": "markdown",
      "source": [
        "11.  Using pen & Paper write the internal mechanism for sum operation using  reduce function on this given\n",
        "list:[47,11,42,13]\n",
        " - Numbers = [47, 11, 42, 13]\n",
        "result = reduce(lambda x, y: x + y, numbers)\n",
        "print(result)  # Output: 113\n",
        "\n",
        "## I Tried many times to add image but some error occours so i will explain the dryrun here only  plz do not cut marks##\n",
        "\n",
        "##numbers = [47,11,42,13}\n",
        "##it will consider 47 as x and 11 as y so x+y = 47+13= 58\n",
        "## 58 will become x now and will add with 42(y) x+y = 58+42 = 100\n",
        "## 100 will become x now and it will add with 13(y) x+y = 100+13 = 113\n"
      ],
      "metadata": {
        "id": "k7iozolAILVQ"
      }
    },
    {
      "cell_type": "markdown",
      "source": [
        "## Prctical questions\n"
      ],
      "metadata": {
        "id": "tWBj3RmA7AD3"
      }
    },
    {
      "cell_type": "markdown",
      "source": [
        "1. Write a Python function that takes a list of numbers as input and returns the sum of all even numbers in\n",
        "the list"
      ],
      "metadata": {
        "id": "yYaYtoY77D9A"
      }
    },
    {
      "cell_type": "code",
      "source": [
        "def sum_of_evens(numbers):\n",
        "    return sum(num for num in numbers if num % 2 == 0)\n",
        "\n",
        "numbers = [1, 2, 3, 4, 5, 6,7, 8, 9, 10]\n",
        "print (sum_of_evens(numbers))\n"
      ],
      "metadata": {
        "colab": {
          "base_uri": "https://localhost:8080/"
        },
        "id": "KQU2p4RU7M4-",
        "outputId": "37472ae8-4364-4d59-f75f-0f7fcbe8251d"
      },
      "execution_count": null,
      "outputs": [
        {
          "output_type": "stream",
          "name": "stdout",
          "text": [
            "30\n"
          ]
        }
      ]
    },
    {
      "cell_type": "markdown",
      "source": [
        "2. Create a Python function that accepts a string and returns the reverse of that string."
      ],
      "metadata": {
        "id": "5X7X17YX-MbF"
      }
    },
    {
      "cell_type": "code",
      "source": [
        "def reverse_string(s):\n",
        "    return s[::-1]\n",
        "\n",
        "s = \"hello\"\n",
        "print(reverse_string(s))"
      ],
      "metadata": {
        "colab": {
          "base_uri": "https://localhost:8080/"
        },
        "id": "PACHohj6-SJn",
        "outputId": "10600168-17a6-40bc-c692-d01dd2f1f18d"
      },
      "execution_count": null,
      "outputs": [
        {
          "output_type": "stream",
          "name": "stdout",
          "text": [
            "olleh\n"
          ]
        }
      ]
    },
    {
      "cell_type": "markdown",
      "source": [
        "3. Implement a Python function that takes a list of integers and returns a new list containing the squares of\n",
        "each number."
      ],
      "metadata": {
        "id": "PI6-JlBE-bpe"
      }
    },
    {
      "cell_type": "code",
      "source": [
        "def square_numbers(numbers):\n",
        "    return [num ** 2 for num in numbers]\n",
        "\n",
        "numbers = [1, 2, 3, 4, 5]\n",
        "print(square_numbers(numbers))\n"
      ],
      "metadata": {
        "colab": {
          "base_uri": "https://localhost:8080/"
        },
        "id": "PKmp428T-oW_",
        "outputId": "75b1b949-42b0-4e03-c934-103c921276a5"
      },
      "execution_count": null,
      "outputs": [
        {
          "output_type": "stream",
          "name": "stdout",
          "text": [
            "[1, 4, 9, 16, 25]\n"
          ]
        }
      ]
    },
    {
      "cell_type": "markdown",
      "source": [
        "4. Write a Python function that checks if a given number is prime or not from 1 to 200"
      ],
      "metadata": {
        "id": "4nLL9w6S-sJX"
      }
    },
    {
      "cell_type": "code",
      "source": [
        "def is_prime(n):\n",
        "    if n < 2:\n",
        "        return False\n",
        "    for i in range(2, int(n ** 0.5) + 1):\n",
        "        if n % i == 0:\n",
        "            return False\n",
        "    return True\n",
        "\n",
        "print([num for num in range(1, 201) if is_prime(num)])"
      ],
      "metadata": {
        "colab": {
          "base_uri": "https://localhost:8080/"
        },
        "id": "jMYfDijf-xyK",
        "outputId": "6f915fab-9cb1-4c70-de3a-68dca89bb2b7"
      },
      "execution_count": null,
      "outputs": [
        {
          "output_type": "stream",
          "name": "stdout",
          "text": [
            "[2, 3, 5, 7, 11, 13, 17, 19, 23, 29, 31, 37, 41, 43, 47, 53, 59, 61, 67, 71, 73, 79, 83, 89, 97, 101, 103, 107, 109, 113, 127, 131, 137, 139, 149, 151, 157, 163, 167, 173, 179, 181, 191, 193, 197, 199]\n"
          ]
        }
      ]
    },
    {
      "cell_type": "markdown",
      "source": [
        "5. Create an iterator class in Python that generates the Fibonacci sequence up to a specified number of terms"
      ],
      "metadata": {
        "id": "kOAictZa_P7y"
      }
    },
    {
      "cell_type": "code",
      "source": [
        "class FibonacciIterator:\n",
        "    def __init__(self, n):\n",
        "        self.n = n\n",
        "        self.a, self.b = 0, 1\n",
        "        self.count = 0\n",
        "\n",
        "    def __iter__(self):\n",
        "        return self\n",
        "\n",
        "    def __next__(self):\n",
        "        if self.count >= self.n:\n",
        "            raise StopIteration\n",
        "        value = self.a\n",
        "        self.a, self.b = self.b, self.a + self.b\n",
        "        self.count += 1\n",
        "        return value\n",
        "\n",
        "# Example usage:\n",
        "n_terms = 10\n",
        "fib_iterator = FibonacciIterator(n_terms)\n",
        "print(list(fib_iterator))"
      ],
      "metadata": {
        "id": "kkT_tHP-_2ix",
        "outputId": "e5b06fd4-dd39-425e-e096-12228ad87b9f",
        "colab": {
          "base_uri": "https://localhost:8080/"
        }
      },
      "execution_count": null,
      "outputs": [
        {
          "output_type": "stream",
          "name": "stdout",
          "text": [
            "[0, 1, 1, 2, 3, 5, 8, 13, 21, 34]\n"
          ]
        }
      ]
    },
    {
      "cell_type": "markdown",
      "source": [
        " 6. Write a generator function in Python that yields the powers of 2 up to a given exponent."
      ],
      "metadata": {
        "id": "UC6EI4toA1B9"
      }
    },
    {
      "cell_type": "code",
      "source": [
        "def powers_of_two(max_exponent):\n",
        "    for exponent in range(max_exponent + 1):\n",
        "        yield 2 ** exponent\n",
        "\n",
        "        for power in powers_of_two(10):\n",
        "          print(power)"
      ],
      "metadata": {
        "id": "NZ4fuhAEBXHx"
      },
      "execution_count": 18,
      "outputs": []
    },
    {
      "cell_type": "markdown",
      "source": [
        "7. Implement a generator function that reads a file line by line and yields each line as a string"
      ],
      "metadata": {
        "id": "3lkkLYbKIbGM"
      }
    },
    {
      "cell_type": "code",
      "source": [
        "def read_file_line_by_line(file_path):\n",
        "    with open(file_path, 'r', encoding='utf-8') as file:\n",
        "        for line in file:\n",
        "            yield line.strip()\n",
        "\n",
        "# Example usage\n",
        "for line in read_file_line_by_line(\"example.txt\"):\n",
        "    print(line)\n"
      ],
      "metadata": {
        "colab": {
          "base_uri": "https://localhost:8080/",
          "height": 315
        },
        "id": "geOuh3UnIgmK",
        "outputId": "3f3d0c0d-e160-4674-da4c-9c74fd446347"
      },
      "execution_count": 20,
      "outputs": [
        {
          "output_type": "error",
          "ename": "FileNotFoundError",
          "evalue": "[Errno 2] No such file or directory: 'example.txt'",
          "traceback": [
            "\u001b[0;31m---------------------------------------------------------------------------\u001b[0m",
            "\u001b[0;31mFileNotFoundError\u001b[0m                         Traceback (most recent call last)",
            "\u001b[0;32m<ipython-input-20-d345502589ec>\u001b[0m in \u001b[0;36m<cell line: 0>\u001b[0;34m()\u001b[0m\n\u001b[1;32m      5\u001b[0m \u001b[0;34m\u001b[0m\u001b[0m\n\u001b[1;32m      6\u001b[0m \u001b[0;31m# Example usage\u001b[0m\u001b[0;34m\u001b[0m\u001b[0;34m\u001b[0m\u001b[0m\n\u001b[0;32m----> 7\u001b[0;31m \u001b[0;32mfor\u001b[0m \u001b[0mline\u001b[0m \u001b[0;32min\u001b[0m \u001b[0mread_file_line_by_line\u001b[0m\u001b[0;34m(\u001b[0m\u001b[0;34m\"example.txt\"\u001b[0m\u001b[0;34m)\u001b[0m\u001b[0;34m:\u001b[0m\u001b[0;34m\u001b[0m\u001b[0;34m\u001b[0m\u001b[0m\n\u001b[0m\u001b[1;32m      8\u001b[0m     \u001b[0mprint\u001b[0m\u001b[0;34m(\u001b[0m\u001b[0mline\u001b[0m\u001b[0;34m)\u001b[0m\u001b[0;34m\u001b[0m\u001b[0;34m\u001b[0m\u001b[0m\n",
            "\u001b[0;32m<ipython-input-20-d345502589ec>\u001b[0m in \u001b[0;36mread_file_line_by_line\u001b[0;34m(file_path)\u001b[0m\n\u001b[1;32m      1\u001b[0m \u001b[0;32mdef\u001b[0m \u001b[0mread_file_line_by_line\u001b[0m\u001b[0;34m(\u001b[0m\u001b[0mfile_path\u001b[0m\u001b[0;34m)\u001b[0m\u001b[0;34m:\u001b[0m\u001b[0;34m\u001b[0m\u001b[0;34m\u001b[0m\u001b[0m\n\u001b[0;32m----> 2\u001b[0;31m     \u001b[0;32mwith\u001b[0m \u001b[0mopen\u001b[0m\u001b[0;34m(\u001b[0m\u001b[0mfile_path\u001b[0m\u001b[0;34m,\u001b[0m \u001b[0;34m'r'\u001b[0m\u001b[0;34m,\u001b[0m \u001b[0mencoding\u001b[0m\u001b[0;34m=\u001b[0m\u001b[0;34m'utf-8'\u001b[0m\u001b[0;34m)\u001b[0m \u001b[0;32mas\u001b[0m \u001b[0mfile\u001b[0m\u001b[0;34m:\u001b[0m\u001b[0;34m\u001b[0m\u001b[0;34m\u001b[0m\u001b[0m\n\u001b[0m\u001b[1;32m      3\u001b[0m         \u001b[0;32mfor\u001b[0m \u001b[0mline\u001b[0m \u001b[0;32min\u001b[0m \u001b[0mfile\u001b[0m\u001b[0;34m:\u001b[0m\u001b[0;34m\u001b[0m\u001b[0;34m\u001b[0m\u001b[0m\n\u001b[1;32m      4\u001b[0m             \u001b[0;32myield\u001b[0m \u001b[0mline\u001b[0m\u001b[0;34m.\u001b[0m\u001b[0mstrip\u001b[0m\u001b[0;34m(\u001b[0m\u001b[0;34m)\u001b[0m\u001b[0;34m\u001b[0m\u001b[0;34m\u001b[0m\u001b[0m\n\u001b[1;32m      5\u001b[0m \u001b[0;34m\u001b[0m\u001b[0m\n",
            "\u001b[0;31mFileNotFoundError\u001b[0m: [Errno 2] No such file or directory: 'example.txt'"
          ]
        }
      ]
    },
    {
      "cell_type": "markdown",
      "source": [
        "8. Use a lambda function in Python to sort a list of tuples based on the second element of each tuple."
      ],
      "metadata": {
        "id": "8cNyvZ7OI2I3"
      }
    },
    {
      "cell_type": "code",
      "source": [
        "data = [(1, 3), (4, 1), (2, 2), (5, 0)]\n",
        "sorted_data = sorted(data, key=lambda x: x[1])\n",
        "\n",
        "print(sorted_data)\n"
      ],
      "metadata": {
        "colab": {
          "base_uri": "https://localhost:8080/"
        },
        "id": "fwdHdEVJJE76",
        "outputId": "6de610c5-af59-4418-9451-aa86bc4d0a63"
      },
      "execution_count": 21,
      "outputs": [
        {
          "output_type": "stream",
          "name": "stdout",
          "text": [
            "[(5, 0), (4, 1), (2, 2), (1, 3)]\n"
          ]
        }
      ]
    },
    {
      "cell_type": "markdown",
      "source": [
        "9.  Write a Python program that uses `map()` to convert a list of temperatures from Celsius to Fahrenheit"
      ],
      "metadata": {
        "id": "Z5kyJG-VJQB3"
      }
    },
    {
      "cell_type": "code",
      "source": [
        "# Function to convert Celsius to Fahrenheit\n",
        "celsius_to_fahrenheit = lambda c: (c * 9/5) + 32\n",
        "\n",
        "# List of temperatures in Celsius\n",
        "celsius_temps = [0, 20, 30, 40, 100]\n",
        "\n",
        "# Convert to Fahrenheit using map()\n",
        "fahrenheit_temps = list(map(celsius_to_fahrenheit, celsius_temps))\n",
        "\n",
        "print(fahrenheit_temps)\n"
      ],
      "metadata": {
        "colab": {
          "base_uri": "https://localhost:8080/"
        },
        "id": "u7EupIK7JeEw",
        "outputId": "e5a2e6bc-82a4-4f62-988c-f96e7b329bb2"
      },
      "execution_count": 22,
      "outputs": [
        {
          "output_type": "stream",
          "name": "stdout",
          "text": [
            "[32.0, 68.0, 86.0, 104.0, 212.0]\n"
          ]
        }
      ]
    },
    {
      "cell_type": "markdown",
      "source": [
        "10. Create a Python program that uses `filter()` to remove all the vowels from a given string."
      ],
      "metadata": {
        "id": "jn8HR_yTJg80"
      }
    },
    {
      "cell_type": "code",
      "source": [
        "# Function to check if a character is not a vowel\n",
        "remove_vowels = lambda char: char.lower() not in \"aeiou\"\n",
        "\n",
        "# Input string\n",
        "text = \"Hello, how are you?\"\n",
        "\n",
        "# Use filter() to remove vowels\n",
        "filtered_text = \"\".join(filter(remove_vowels, text))\n",
        "\n",
        "print(filtered_text)\n"
      ],
      "metadata": {
        "colab": {
          "base_uri": "https://localhost:8080/"
        },
        "id": "trEM58WHJvh1",
        "outputId": "75f9bf55-0aa5-4992-b935-c2cbd9d81f8f"
      },
      "execution_count": 23,
      "outputs": [
        {
          "output_type": "stream",
          "name": "stdout",
          "text": [
            "Hll, hw r y?\n"
          ]
        }
      ]
    },
    {
      "cell_type": "markdown",
      "source": [
        "## whole assignment is different from what classes are teaching"
      ],
      "metadata": {
        "id": "kyPz9PloJ1LK"
      }
    }
  ]
}